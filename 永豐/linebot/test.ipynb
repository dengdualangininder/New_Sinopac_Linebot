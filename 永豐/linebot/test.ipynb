{
 "cells": [
  {
   "cell_type": "code",
   "execution_count": 5,
   "metadata": {},
   "outputs": [
    {
     "data": {
      "text/plain": [
       "True"
      ]
     },
     "execution_count": 5,
     "metadata": {},
     "output_type": "execute_result"
    }
   ],
   "source": [
    "import os\n",
    "from dotenv import load_dotenv\n",
    "load_dotenv() #載入env檔"
   ]
  },
  {
   "cell_type": "code",
   "execution_count": 7,
   "metadata": {},
   "outputs": [
    {
     "name": "stderr",
     "output_type": "stream",
     "text": [
      "/var/folders/q3/5ynxdplx76l7_fxjngs3qlvr0000gp/T/ipykernel_17120/3047970.py:11: LineBotSdkDeprecatedIn30: Call to deprecated class LineBotApi. (Use v3 class; linebot.v3.<feature>. See https://github.com/line/line-bot-sdk-python/blob/master/README.rst for more details.) -- Deprecated since version 3.0.0.\n",
      "  line_bot_api = LineBotApi(LINE_CHANNEL_ACCESS_TOKEN)\n",
      "/var/folders/q3/5ynxdplx76l7_fxjngs3qlvr0000gp/T/ipykernel_17120/3047970.py:12: LineBotSdkDeprecatedIn30: Call to deprecated class WebhookHandler. (Use 'from linebot.v3.webhook import WebhookHandler' instead. See https://github.com/line/line-bot-sdk-python/blob/master/README.rst for more details.) -- Deprecated since version 3.0.0.\n",
      "  handler = WebhookHandler(LINE_CHANNEL_SECRET)\n"
     ]
    }
   ],
   "source": [
    "LINE_CHANNEL_ACCESS_TOKEN=os.getenv('YOUR_CHANNEL_ACCESS_TOKEN')\n",
    "LINE_CHANNEL_SECRET=os.getenv('YOUR_CHANNEL_SECRET')\n",
    "\n",
    "from app import Flask, request, abort\n",
    "from linebot import LineBotApi, WebhookHandler\n",
    "from linebot.exceptions import InvalidSignatureError\n",
    "from linebot.models import MessageEvent, TextMessage, TextSendMessage\n",
    "\n",
    "app = Flask(__name__)\n",
    "\n",
    "line_bot_api = LineBotApi(LINE_CHANNEL_ACCESS_TOKEN)\n",
    "handler = WebhookHandler(LINE_CHANNEL_SECRET)\n",
    "\n",
    "@app.route(\"/\", methods=[\"POST\"])\n",
    "def webhook_handler():\n",
    "    # verify signature if needed\n",
    "    # add logic to handle the request\n",
    "    signature = request.headers['X-Line-Signature']\n",
    "    body = request.get_data(as_text=True)\n",
    "    try:\n",
    "        handler.handle(body, signature)\n",
    "    except InvalidSignatureError:\n",
    "        abort(code=400,description=\"An error has been raised\") \n",
    "        # 或是 abort(400) 也可以... 目的是要回報 Bad Request，至於為什麼是400...請看文章下方...\n",
    "    return 'OK'\n",
    " \n",
    "@handler.add(MessageEvent, message=TextMessage)\n",
    "def handling_message(event):\n",
    "    line_bot_api.reply_message(event.reply_token,\n",
    "        TextSendMessage(text=event.message.text))"
   ]
  }
 ],
 "metadata": {
  "kernelspec": {
   "display_name": "datascientist",
   "language": "python",
   "name": "python3"
  },
  "language_info": {
   "codemirror_mode": {
    "name": "ipython",
    "version": 3
   },
   "file_extension": ".py",
   "mimetype": "text/x-python",
   "name": "python",
   "nbconvert_exporter": "python",
   "pygments_lexer": "ipython3",
   "version": "3.12.2"
  }
 },
 "nbformat": 4,
 "nbformat_minor": 2
}
