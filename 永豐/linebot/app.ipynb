{
 "cells": [
  {
   "cell_type": "code",
   "execution_count": 1,
   "metadata": {},
   "outputs": [
    {
     "data": {
      "text/plain": [
       "True"
      ]
     },
     "execution_count": 1,
     "metadata": {},
     "output_type": "execute_result"
    }
   ],
   "source": [
    "import os\n",
    "from dotenv import load_dotenv\n",
    "load_dotenv() #載入env檔"
   ]
  },
  {
   "cell_type": "code",
   "execution_count": 2,
   "metadata": {},
   "outputs": [],
   "source": [
    "from flask import Flask, request, abort\n",
    "\n",
    "from linebot.v3 import (\n",
    "    WebhookHandler\n",
    ")\n",
    "from linebot.v3.exceptions import (\n",
    "    InvalidSignatureError\n",
    ")\n",
    "from linebot.v3.messaging import (\n",
    "    Configuration,\n",
    "    ApiClient,\n",
    "    MessagingApi,\n",
    "    ReplyMessageRequest,\n",
    "    TextMessage\n",
    ")\n",
    "from linebot.v3.webhooks import (\n",
    "    MessageEvent,\n",
    "    TextMessageContent\n",
    ")\n",
    "\n",
    "app = Flask(__name__)"
   ]
  },
  {
   "cell_type": "code",
   "execution_count": 3,
   "metadata": {},
   "outputs": [],
   "source": [
    "YOUR_CHANNEL_ACCESS_TOKEN=os.getenv('YOUR_CHANNEL_ACCESS_TOKEN')\n",
    "YOUR_CHANNEL_SECRET=os.getenv('YOUR_CHANNEL_SECRET')\n"
   ]
  },
  {
   "cell_type": "code",
   "execution_count": 4,
   "metadata": {},
   "outputs": [],
   "source": [
    "# 初始化 WebhookHandler 和 Configuration\n",
    "handler = WebhookHandler(YOUR_CHANNEL_SECRET)\n",
    "configuration = Configuration(access_token=YOUR_CHANNEL_ACCESS_TOKEN)"
   ]
  },
  {
   "cell_type": "code",
   "execution_count": 5,
   "metadata": {},
   "outputs": [
    {
     "name": "stderr",
     "output_type": "stream",
     "text": [
      "/Users/user/miniforge3/envs/datascientist/lib/python3.12/site-packages/tqdm/auto.py:21: TqdmWarning: IProgress not found. Please update jupyter and ipywidgets. See https://ipywidgets.readthedocs.io/en/stable/user_install.html\n",
      "  from .autonotebook import tqdm as notebook_tqdm\n"
     ]
    }
   ],
   "source": [
    "#引進Gemini \n",
    "import google.generativeai as genai\n",
    "import os\n",
    "\n",
    "genai.configure(api_key=os.environ[\"Gemini_API\"])\n",
    "\n",
    "model = genai.GenerativeModel('gemini-1.5-flash')"
   ]
  },
  {
   "cell_type": "code",
   "execution_count": 6,
   "metadata": {},
   "outputs": [
    {
     "name": "stdout",
     "output_type": "stream",
     "text": [
      "Hello! How can I help you today? \n",
      "\n"
     ]
    }
   ],
   "source": [
    "#Gemini回應訊息 \n",
    "response = model.generate_content(\"Hello\")\n",
    "print(response.text)"
   ]
  },
  {
   "cell_type": "code",
   "execution_count": 7,
   "metadata": {},
   "outputs": [
    {
     "data": {
      "text/plain": [
       "'Hello! How can I help you today?'"
      ]
     },
     "execution_count": 7,
     "metadata": {},
     "output_type": "execute_result"
    }
   ],
   "source": [
    "# 清理回應\n",
    "gemini_response_cleaned = response.text.strip().replace(\"\\n\", \" \")\n",
    "gemini_response_cleaned"
   ]
  },
  {
   "cell_type": "code",
   "execution_count": 8,
   "metadata": {},
   "outputs": [
    {
     "data": {
      "text/plain": [
       "'@app.route(\"/callback\", methods=[\\'POST\\'])\\ndef callback():\\n    # get X-Line-Signature header value\\n    signature = request.headers[\\'X-Line-Signature\\'] #驗證是否是line平台發出的 \\n\\n    # get request body as text\\n    body = request.get_data(as_text=True)\\n    app.logger.info(\"Request body: \" + body)\\n\\n    # handle webhook body\\n    try:\\n        handler.handle(body, signature)\\n    except InvalidSignatureError:\\n        app.logger.info(\"Invalid signature. Please check your channel access token/channel secret.\")\\n        abort(400)\\n\\n    return \\'OK\\'  \\n\\n@app.route(\"/\")\\ndef index():\\n    return \"Flask is running!\"\\n\\n#Gemini回應接收到的訊息\\n@handler.add(MessageEvent, message=TextMessageContent)\\ndef handle_message(event):\\n    # 取得用戶傳來的訊息\\n    user_message = event.message.text\\n\\n    # 呼叫 Gemini API 進行回應\\n    gemini_response = model.generate_content(user_message)\\n\\n    # 回傳 Gemini 的回應給用戶\\n    reply_message = TextMessage(text=gemini_response)\\n    messaging_api.reply_message(reply_token=event.reply_token, messages=[reply_message])\\n\\n\\n\\n@handler.add(MessageEvent, message=TextMessageContent)\\ndef handle_message(event):\\n    app.logger.info(\"Handling message event\")\\n    with ApiClient(configuration) as api_client:\\n        line_bot_api = MessagingApi(api_client)\\n        line_bot_api.reply_message_with_http_info(\\n            ReplyMessageRequest(                reply_token=event.reply_token,\\n                messages=[TextMessage(text=\"歡迎使用Line Bot！\")]\\n            )\\n        )\\n        \\n\\n\\nif __name__ == \"__main__\":\\n    app.run(port=5001)\\n'"
      ]
     },
     "execution_count": 8,
     "metadata": {},
     "output_type": "execute_result"
    }
   ],
   "source": [
    "'''@app.route(\"/callback\", methods=['POST'])\n",
    "def callback():\n",
    "    # get X-Line-Signature header value\n",
    "    signature = request.headers['X-Line-Signature'] #驗證是否是line平台發出的 \n",
    "\n",
    "    # get request body as text\n",
    "    body = request.get_data(as_text=True)\n",
    "    app.logger.info(\"Request body: \" + body)\n",
    "\n",
    "    # handle webhook body\n",
    "    try:\n",
    "        handler.handle(body, signature)\n",
    "    except InvalidSignatureError:\n",
    "        app.logger.info(\"Invalid signature. Please check your channel access token/channel secret.\")\n",
    "        abort(400)\n",
    "\n",
    "    return 'OK'  \n",
    "\n",
    "@app.route(\"/\")\n",
    "def index():\n",
    "    return \"Flask is running!\"\n",
    "\n",
    "#Gemini回應接收到的訊息\n",
    "@handler.add(MessageEvent, message=TextMessageContent)\n",
    "def handle_message(event):\n",
    "    # 取得用戶傳來的訊息\n",
    "    user_message = event.message.text\n",
    "\n",
    "    # 呼叫 Gemini API 進行回應\n",
    "    gemini_response = model.generate_content(user_message)\n",
    "\n",
    "    # 回傳 Gemini 的回應給用戶\n",
    "    reply_message = TextMessage(text=gemini_response)\n",
    "    messaging_api.reply_message(reply_token=event.reply_token, messages=[reply_message])\n",
    "\n",
    "\n",
    "\n",
    "@handler.add(MessageEvent, message=TextMessageContent)\n",
    "def handle_message(event):\n",
    "    app.logger.info(\"Handling message event\")\n",
    "    with ApiClient(configuration) as api_client:\n",
    "        line_bot_api = MessagingApi(api_client)\n",
    "        line_bot_api.reply_message_with_http_info(\n",
    "            ReplyMessageRequest(\\\n",
    "                reply_token=event.reply_token,\n",
    "                messages=[TextMessage(text=\"歡迎使用Line Bot！\")]\n",
    "            )\n",
    "        )\n",
    "        \n",
    "\n",
    "\n",
    "if __name__ == \"__main__\":\n",
    "    app.run(port=5001)\n",
    "'''"
   ]
  },
  {
   "cell_type": "code",
   "execution_count": 9,
   "metadata": {},
   "outputs": [
    {
     "name": "stdout",
     "output_type": "stream",
     "text": [
      " * Serving Flask app '__main__'\n",
      " * Debug mode: off\n"
     ]
    },
    {
     "name": "stderr",
     "output_type": "stream",
     "text": [
      "\u001b[31m\u001b[1mWARNING: This is a development server. Do not use it in a production deployment. Use a production WSGI server instead.\u001b[0m\n",
      " * Running on http://127.0.0.1:5001\n",
      "\u001b[33mPress CTRL+C to quit\u001b[0m\n"
     ]
    }
   ],
   "source": [
    "@app.route(\"/callback\", methods=['POST'])\n",
    "def callback():\n",
    "    # get X-Line-Signature header value\n",
    "    signature = request.headers['X-Line-Signature'] #驗證是否是line平台發出的 \n",
    "\n",
    "    # get request body as text\n",
    "    body = request.get_data(as_text=True)\n",
    "    app.logger.info(\"Request body: \" + body)\n",
    "\n",
    "    # handle webhook body\n",
    "    try:\n",
    "        handler.handle(body, signature)\n",
    "    except InvalidSignatureError:\n",
    "        app.logger.info(\"Invalid signature. Please check your channel access token/channel secret.\")\n",
    "        abort(400)\n",
    "\n",
    "    return 'OK'  \n",
    "\n",
    "@app.route(\"/\")\n",
    "def index():\n",
    "    return \"Flask is running!\"\n",
    "\n",
    "\n",
    "@handler.add(MessageEvent, message=TextMessageContent)\n",
    "def handle_message(event): #處理用戶message\n",
    "    # 取得用戶傳來的訊息\n",
    "    user_message = event.message.text\n",
    "    # 呼叫 Gemini API 進行回應\n",
    "    gemini_response = model.generate_content(f\"請用繁體中文回答以下用戶傳來的訊息:{user_message}\")\n",
    "    app.logger.info(\"Handling message event\")\n",
    "    with ApiClient(configuration) as api_client:\n",
    "        line_bot_api = MessagingApi(api_client)\n",
    "        line_bot_api.reply_message_with_http_info(\n",
    "            ReplyMessageRequest(\\\n",
    "                reply_token=event.reply_token,\n",
    "                messages=[TextMessage(text=gemini_response.text)]\n",
    "            )\n",
    "        )\n",
    "\n",
    "#####test\n",
    "def handle_text_message(msg):\n",
    "    if msg == True:\n",
    "        return TextSendMessage(text='這是一則文字訊息')\n",
    "#####test\n",
    "\n",
    "if __name__ == \"__main__\":\n",
    "    app.run(port=5001)"
   ]
  },
  {
   "cell_type": "code",
   "execution_count": null,
   "metadata": {},
   "outputs": [],
   "source": [
    "    elif msg == '!快速按鈕':\n",
    "        return TextSendMessage(\n",
    "            text='選擇一個動作',\n",
    "            quick_reply=QuickReply(\n",
    "                items=[\n",
    "                    QuickReplyButton(\n",
    "                        action=CameraAction(label='拍照'),\n",
    "                        image_url='https://storage.googleapis.com/你的icon連結.png'\n",
    "                    ),\n",
    "                    QuickReplyButton(\n",
    "                        action=CameraRollAction(label='相冊'),\n",
    "                        image_url='https://storage.googleapis.com/你的icon連結.png'\n",
    "                    ),\n",
    "                    QuickReplyButton(\n",
    "                        action=LocationAction(label='位置'),\n",
    "                        image_url='https://storage.googleapis.com/你的icon連結.png'\n",
    "                    ),\n",
    "                    QuickReplyButton(\n",
    "                        action=PostbackAction(label='點擊', data='action=buy&itemid=123'),\n",
    "                        image_url='https://storage.googleapis.com/你的icon連結.png'\n",
    "                    ),\n",
    "                    QuickReplyButton(\n",
    "                        action=MessageAction(label='訊息', text='訊息內容'),\n",
    "                        image_url='https://storage.googleapis.com/你的icon連結.png'\n",
    "                    ),\n",
    "                    QuickReplyButton(\n",
    "                        action=DatetimePickerAction(label='選擇時間', data='datetime', mode='datetime'),\n",
    "                        image_url='https://storage.googleapis.com/你的icon連結.png'\n",
    "                    )\n",
    "                ]\n",
    "            )\n",
    "        )"
   ]
  }
 ],
 "metadata": {
  "kernelspec": {
   "display_name": "datascientist",
   "language": "python",
   "name": "python3"
  },
  "language_info": {
   "codemirror_mode": {
    "name": "ipython",
    "version": 3
   },
   "file_extension": ".py",
   "mimetype": "text/x-python",
   "name": "python",
   "nbconvert_exporter": "python",
   "pygments_lexer": "ipython3",
   "version": "3.12.2"
  }
 },
 "nbformat": 4,
 "nbformat_minor": 2
}
